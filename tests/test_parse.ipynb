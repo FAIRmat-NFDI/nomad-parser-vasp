{
 "cells": [
  {
   "cell_type": "code",
   "execution_count": 1,
   "metadata": {},
   "outputs": [
    {
     "name": "stderr",
     "output_type": "stream",
     "text": [
      "/home/jfrudzinski/miniconda3/envs/vasp-plugin/lib/python3.9/site-packages/tqdm/auto.py:21: TqdmWarning: IProgress not found. Please update jupyter and ipywidgets. See https://ipywidgets.readthedocs.io/en/stable/user_install.html\n",
      "  from .autonotebook import tqdm as notebook_tqdm\n",
      "Schema is deprecated, use plugins. ()\n"
     ]
    },
    {
     "ename": "ImportError",
     "evalue": "cannot import name 'EnergyContribution' from 'nomad_simulations.properties.energies' (/home/jfrudzinski/miniconda3/envs/vasp-plugin/lib/python3.9/site-packages/nomad_simulations/properties/energies.py)",
     "output_type": "error",
     "traceback": [
      "\u001b[0;31m---------------------------------------------------------------------------\u001b[0m",
      "\u001b[0;31mImportError\u001b[0m                               Traceback (most recent call last)",
      "Cell \u001b[0;32mIn[1], line 1\u001b[0m\n\u001b[0;32m----> 1\u001b[0m \u001b[38;5;28;01mfrom\u001b[39;00m \u001b[38;5;21;01mnomad_parser_vasp\u001b[39;00m\u001b[38;5;21;01m.\u001b[39;00m\u001b[38;5;21;01mparsers\u001b[39;00m\u001b[38;5;21;01m.\u001b[39;00m\u001b[38;5;21;01mxml_parser\u001b[39;00m \u001b[38;5;28;01mimport\u001b[39;00m VasprunXMLParser\n\u001b[1;32m      2\u001b[0m \u001b[38;5;28;01mfrom\u001b[39;00m \u001b[38;5;21;01mnomad\u001b[39;00m\u001b[38;5;21;01m.\u001b[39;00m\u001b[38;5;21;01mdatamodel\u001b[39;00m \u001b[38;5;28;01mimport\u001b[39;00m EntryArchive\n\u001b[1;32m      3\u001b[0m \u001b[38;5;28;01mfrom\u001b[39;00m \u001b[38;5;21;01mnomad\u001b[39;00m\u001b[38;5;21;01m.\u001b[39;00m\u001b[38;5;21;01mnormalizing\u001b[39;00m\u001b[38;5;21;01m.\u001b[39;00m\u001b[38;5;21;01mmetainfo\u001b[39;00m \u001b[38;5;28;01mimport\u001b[39;00m MetainfoNormalizer\n",
      "File \u001b[0;32m~/work/soft/plugins/nomad-parser-vasp/src/nomad_parser_vasp/parsers/xml_parser.py:12\u001b[0m\n\u001b[1;32m      9\u001b[0m \u001b[38;5;28;01mfrom\u001b[39;00m \u001b[38;5;21;01mnomad_simulations\u001b[39;00m\u001b[38;5;21;01m.\u001b[39;00m\u001b[38;5;21;01moutputs\u001b[39;00m \u001b[38;5;28;01mimport\u001b[39;00m Outputs\n\u001b[1;32m     10\u001b[0m \u001b[38;5;28;01mfrom\u001b[39;00m \u001b[38;5;21;01mstructlog\u001b[39;00m\u001b[38;5;21;01m.\u001b[39;00m\u001b[38;5;21;01mstdlib\u001b[39;00m \u001b[38;5;28;01mimport\u001b[39;00m BoundLogger\n\u001b[0;32m---> 12\u001b[0m \u001b[38;5;28;01mfrom\u001b[39;00m \u001b[38;5;21;01mnomad_parser_vasp\u001b[39;00m\u001b[38;5;21;01m.\u001b[39;00m\u001b[38;5;21;01mschema_packages\u001b[39;00m\u001b[38;5;21;01m.\u001b[39;00m\u001b[38;5;21;01mvasp_schema\u001b[39;00m \u001b[38;5;28;01mimport\u001b[39;00m (\n\u001b[1;32m     13\u001b[0m     HartreeDCEnergy,\n\u001b[1;32m     14\u001b[0m     TotalEnergy,\n\u001b[1;32m     15\u001b[0m     XCdcEnergy,\n\u001b[1;32m     16\u001b[0m )\n\u001b[1;32m     18\u001b[0m configuration \u001b[38;5;241m=\u001b[39m config\u001b[38;5;241m.\u001b[39mget_plugin_entry_point(\n\u001b[1;32m     19\u001b[0m     \u001b[38;5;124m'\u001b[39m\u001b[38;5;124mnomad_parser_vasp.parsers:xml_entry_point\u001b[39m\u001b[38;5;124m'\u001b[39m\n\u001b[1;32m     20\u001b[0m )\n\u001b[1;32m     23\u001b[0m \u001b[38;5;28;01mclass\u001b[39;00m \u001b[38;5;21;01mVasprunXMLParser\u001b[39;00m(MatchingParser):\n",
      "File \u001b[0;32m~/work/soft/plugins/nomad-parser-vasp/src/nomad_parser_vasp/schema_packages/vasp_schema.py:2\u001b[0m\n\u001b[1;32m      1\u001b[0m \u001b[38;5;28;01mfrom\u001b[39;00m \u001b[38;5;21;01mnomad\u001b[39;00m\u001b[38;5;21;01m.\u001b[39;00m\u001b[38;5;21;01mmetainfo\u001b[39;00m \u001b[38;5;28;01mimport\u001b[39;00m MEnum, Quantity\n\u001b[0;32m----> 2\u001b[0m \u001b[38;5;28;01mfrom\u001b[39;00m \u001b[38;5;21;01mnomad_simulations\u001b[39;00m\u001b[38;5;21;01m.\u001b[39;00m\u001b[38;5;21;01mproperties\u001b[39;00m\u001b[38;5;21;01m.\u001b[39;00m\u001b[38;5;21;01menergies\u001b[39;00m \u001b[38;5;28;01mimport\u001b[39;00m EnergyContribution\n\u001b[1;32m      5\u001b[0m \u001b[38;5;28;01mclass\u001b[39;00m \u001b[38;5;21;01mDoubleCountingEnergy\u001b[39;00m(EnergyContribution):\n\u001b[1;32m      6\u001b[0m     \u001b[38;5;28mtype\u001b[39m \u001b[38;5;241m=\u001b[39m Quantity(\n\u001b[1;32m      7\u001b[0m         \u001b[38;5;28mtype\u001b[39m\u001b[38;5;241m=\u001b[39mMEnum(\u001b[38;5;124m'\u001b[39m\u001b[38;5;124mdouble_counting\u001b[39m\u001b[38;5;124m'\u001b[39m),\n\u001b[1;32m      8\u001b[0m     )\n",
      "\u001b[0;31mImportError\u001b[0m: cannot import name 'EnergyContribution' from 'nomad_simulations.properties.energies' (/home/jfrudzinski/miniconda3/envs/vasp-plugin/lib/python3.9/site-packages/nomad_simulations/properties/energies.py)"
     ]
    }
   ],
   "source": [
    "from nomad_parser_vasp.parsers.xml_parser import VasprunXMLParser\n",
    "from nomad.datamodel import EntryArchive\n",
    "from nomad.normalizing.metainfo import MetainfoNormalizer\n",
    "from nomad.units import ureg\n",
    "from nomad import utils\n",
    "logger = utils.get_logger(__name__)"
   ]
  },
  {
   "cell_type": "code",
   "execution_count": 2,
   "metadata": {},
   "outputs": [
    {
     "ename": "ImportError",
     "evalue": "cannot import name 'EnergyContribution' from 'nomad_simulations.properties.energies' (/home/jfrudzinski/miniconda3/envs/vasp-plugin/lib/python3.9/site-packages/nomad_simulations/properties/energies.py)",
     "output_type": "error",
     "traceback": [
      "\u001b[0;31m---------------------------------------------------------------------------\u001b[0m",
      "\u001b[0;31mImportError\u001b[0m                               Traceback (most recent call last)",
      "Cell \u001b[0;32mIn[2], line 1\u001b[0m\n\u001b[0;32m----> 1\u001b[0m \u001b[38;5;28;01mfrom\u001b[39;00m \u001b[38;5;21;01mnomad_simulations\u001b[39;00m\u001b[38;5;21;01m.\u001b[39;00m\u001b[38;5;21;01mproperties\u001b[39;00m\u001b[38;5;21;01m.\u001b[39;00m\u001b[38;5;21;01menergies\u001b[39;00m \u001b[38;5;28;01mimport\u001b[39;00m EnergyContribution\n",
      "\u001b[0;31mImportError\u001b[0m: cannot import name 'EnergyContribution' from 'nomad_simulations.properties.energies' (/home/jfrudzinski/miniconda3/envs/vasp-plugin/lib/python3.9/site-packages/nomad_simulations/properties/energies.py)"
     ]
    }
   ],
   "source": [
    "from nomad_simulations.properties.energies import EnergyContribution"
   ]
  },
  {
   "cell_type": "code",
   "execution_count": 2,
   "metadata": {},
   "outputs": [
    {
     "name": "stdout",
     "output_type": "stream",
     "text": [
      "[-7.14173545]\n"
     ]
    }
   ],
   "source": [
    "path = './data/'\n",
    "p = VasprunXMLParser()\n",
    "a = EntryArchive()\n",
    "p.parse(path + 'vasprun.xml.relax', a, logger=logger)\n",
    "\n",
    "# MetainfoNormalizer().normalize(archive=a)"
   ]
  },
  {
   "cell_type": "code",
   "execution_count": 7,
   "metadata": {},
   "outputs": [
    {
     "data": {
      "text/plain": [
       "VASP:Program(name, version)"
      ]
     },
     "execution_count": 7,
     "metadata": {},
     "output_type": "execute_result"
    }
   ],
   "source": [
    "a.data.program"
   ]
  },
  {
   "cell_type": "code",
   "execution_count": null,
   "metadata": {},
   "outputs": [],
   "source": []
  }
 ],
 "metadata": {
  "kernelspec": {
   "display_name": "vasp-plugin",
   "language": "python",
   "name": "python3"
  },
  "language_info": {
   "codemirror_mode": {
    "name": "ipython",
    "version": 3
   },
   "file_extension": ".py",
   "mimetype": "text/x-python",
   "name": "python",
   "nbconvert_exporter": "python",
   "pygments_lexer": "ipython3",
   "version": "3.9.19"
  }
 },
 "nbformat": 4,
 "nbformat_minor": 2
}
