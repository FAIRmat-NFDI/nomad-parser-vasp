{
 "cells": [
  {
   "cell_type": "code",
   "execution_count": null,
   "metadata": {},
   "outputs": [
    {
     "name": "stderr",
     "output_type": "stream",
     "text": [
      "/home/jfrudzinski/miniconda3/envs/vasp-plugin/lib/python3.9/site-packages/tqdm/auto.py:21: TqdmWarning: IProgress not found. Please update jupyter and ipywidgets. See https://ipywidgets.readthedocs.io/en/stable/user_install.html\n",
      "  from .autonotebook import tqdm as notebook_tqdm\n",
      "Schema is deprecated, use plugins. ()\n"
     ]
    }
   ],
   "source": [
    "from nomad_parser_vasp.parsers.xml_parser import VasprunXMLParser\n",
    "from nomad.datamodel import EntryArchive\n",
    "from nomad.normalizing.metainfo import MetainfoNormalizer\n",
    "from nomad.units import ureg\n",
    "from nomad import utils\n",
    "logger = utils.get_logger(__name__)"
   ]
  },
  {
   "cell_type": "code",
   "execution_count": 2,
   "metadata": {},
   "outputs": [
    {
     "name": "stdout",
     "output_type": "stream",
     "text": [
      "0.0.3.dev15+g0c9be48\n"
     ]
    },
    {
     "data": {
      "text/plain": [
       "nomad_simulations.schema_packages.properties.energies.EnergyContribution"
      ]
     },
     "execution_count": 2,
     "metadata": {},
     "output_type": "execute_result"
    }
   ],
   "source": [
    "import nomad_simulations\n",
    "import nomad_simulations.schema_packages\n",
    "import nomad_simulations.schema_packages.properties\n",
    "print(nomad_simulations.__version__)\n",
    "nomad_simulations.schema_packages.properties.energies.EnergyContribution"
   ]
  },
  {
   "cell_type": "code",
   "execution_count": null,
   "metadata": {},
   "outputs": [],
   "source": [
    "energies."
   ]
  },
  {
   "cell_type": "code",
   "execution_count": 2,
   "metadata": {},
   "outputs": [
    {
     "name": "stdout",
     "output_type": "stream",
     "text": [
      "[-7.14173545]\n"
     ]
    }
   ],
   "source": [
    "path = './data/'\n",
    "p = VasprunXMLParser()\n",
    "a = EntryArchive()\n",
    "p.parse(path + 'vasprun.xml.relax', a, logger=logger)\n",
    "\n",
    "# MetainfoNormalizer().normalize(archive=a)"
   ]
  },
  {
   "cell_type": "code",
   "execution_count": 7,
   "metadata": {},
   "outputs": [
    {
     "data": {
      "text/plain": [
       "VASP:Program(name, version)"
      ]
     },
     "execution_count": 7,
     "metadata": {},
     "output_type": "execute_result"
    }
   ],
   "source": [
    "a.data.program"
   ]
  },
  {
   "cell_type": "code",
   "execution_count": null,
   "metadata": {},
   "outputs": [],
   "source": []
  }
 ],
 "metadata": {
  "kernelspec": {
   "display_name": "vasp-plugin",
   "language": "python",
   "name": "python3"
  },
  "language_info": {
   "codemirror_mode": {
    "name": "ipython",
    "version": 3
   },
   "file_extension": ".py",
   "mimetype": "text/x-python",
   "name": "python",
   "nbconvert_exporter": "python",
   "pygments_lexer": "ipython3",
   "version": "3.9.19"
  }
 },
 "nbformat": 4,
 "nbformat_minor": 2
}
