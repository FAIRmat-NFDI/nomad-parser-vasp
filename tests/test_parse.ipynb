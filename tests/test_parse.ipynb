{
 "cells": [
  {
   "cell_type": "code",
   "execution_count": 1,
   "metadata": {},
   "outputs": [
    {
     "name": "stderr",
     "output_type": "stream",
     "text": [
      "/home/jfrudzinski/miniconda3/envs/vasp-plugin-new/lib/python3.9/site-packages/tqdm/auto.py:21: TqdmWarning: IProgress not found. Please update jupyter and ipywidgets. See https://ipywidgets.readthedocs.io/en/stable/user_install.html\n",
      "  from .autonotebook import tqdm as notebook_tqdm\n",
      "Schema is deprecated, use plugins. ()\n"
     ]
    }
   ],
   "source": [
    "from nomad_parser_vasp.parsers.xml_parser import VasprunXMLParser\n",
    "from nomad.datamodel import EntryArchive\n",
    "from nomad.normalizing.metainfo import MetainfoNormalizer\n",
    "from nomad import utils\n",
    "logger = utils.get_logger(__name__)"
   ]
  },
  {
   "cell_type": "code",
   "execution_count": 2,
   "metadata": {},
   "outputs": [
    {
     "name": "stderr",
     "output_type": "stream",
     "text": [
      "The used property is not defined in the FAIRmat taxonomy (https://fairmat-nfdi.github.io/fairmat-taxonomy/). You can contribute there if you want to extend the list of available materials properties. ()\n",
      "The used property is not defined in the FAIRmat taxonomy (https://fairmat-nfdi.github.io/fairmat-taxonomy/). You can contribute there if you want to extend the list of available materials properties. ()\n",
      "The used property is not defined in the FAIRmat taxonomy (https://fairmat-nfdi.github.io/fairmat-taxonomy/). You can contribute there if you want to extend the list of available materials properties. ()\n",
      "The used property is not defined in the FAIRmat taxonomy (https://fairmat-nfdi.github.io/fairmat-taxonomy/). You can contribute there if you want to extend the list of available materials properties. ()\n",
      "Length of `AtomicCell.positions` does not coincide with the length of the `AtomicCell.atoms_state`. (normalizer=MetainfoNormalizer)\n",
      "Could not extract the geometric space information from ASE Atoms object. (normalizer=MetainfoNormalizer)\n",
      "could not normalize section (normalizer=MetainfoNormalizer, section=DFT, exc_info=max() arg is an empty sequence)\n",
      "could not normalize section (normalizer=MetainfoNormalizer, section=EntryArchive, exc_info='NoneType' object has no attribute 'entry_type')\n"
     ]
    }
   ],
   "source": [
    "path = './data/'\n",
    "p = VasprunXMLParser()\n",
    "a = EntryArchive()\n",
    "p.parse(path + 'vasprun.xml.relax', a, logger=logger)\n",
    "\n",
    "MetainfoNormalizer().normalize(archive=a)"
   ]
  },
  {
   "cell_type": "code",
   "execution_count": 3,
   "metadata": {},
   "outputs": [
    {
     "name": "stdout",
     "output_type": "stream",
     "text": [
      "TotalEnergy\n",
      "-1.1442321664199474e-18 joule\n",
      "[HartreeDCEnergy:HartreeDCEnergy(name, type, is_derived, variables, value), XCdcEnergy:XCdcEnergy(name, type, is_derived, variables, value), UnknownEnergy:UnknownEnergy(name, is_derived, value)]\n"
     ]
    }
   ],
   "source": [
    "total_energy = a.data.outputs[0].total_energy[0]\n",
    "print(total_energy.name)\n",
    "print(total_energy.value)\n",
    "print(total_energy.contributions)"
   ]
  },
  {
   "cell_type": "code",
   "execution_count": 4,
   "metadata": {},
   "outputs": [
    {
     "name": "stdout",
     "output_type": "stream",
     "text": [
      "HartreeDCEnergy\n",
      "double_counting\n",
      "-6.432015131607956e-17 joule\n"
     ]
    }
   ],
   "source": [
    "hartreedc = total_energy.contributions[0]\n",
    "print(hartreedc.name)\n",
    "print(hartreedc.type)\n",
    "print(hartreedc.value)"
   ]
  },
  {
   "cell_type": "code",
   "execution_count": 5,
   "metadata": {},
   "outputs": [
    {
     "name": "stdout",
     "output_type": "stream",
     "text": [
      "XCdcEnergy\n",
      "double_counting\n",
      "-7.660195079365588e-18 joule\n"
     ]
    }
   ],
   "source": [
    "xcdc = total_energy.contributions[1]\n",
    "print(xcdc.name)\n",
    "print(xcdc.type)\n",
    "print(xcdc.value)"
   ]
  },
  {
   "cell_type": "code",
   "execution_count": 6,
   "metadata": {},
   "outputs": [
    {
     "name": "stdout",
     "output_type": "stream",
     "text": [
      "UnknownEnergy\n",
      "7.08361142290252e-17 joule\n"
     ]
    }
   ],
   "source": [
    "unknown = total_energy.contributions[2]\n",
    "print(unknown.name)\n",
    "print(unknown.value)"
   ]
  },
  {
   "cell_type": "code",
   "execution_count": 7,
   "metadata": {},
   "outputs": [
    {
     "data": {
      "text/html": [
       "7.08361142290252×10<sup>-17</sup> joule"
      ],
      "text/latex": [
       "$7.08361142290252\\times 10^{-17}\\ \\mathrm{joule}$"
      ],
      "text/plain": [
       "7.08361142290252e-17 <Unit('joule')>"
      ]
     },
     "execution_count": 7,
     "metadata": {},
     "output_type": "execute_result"
    }
   ],
   "source": [
    "total_energy.value - hartreedc.value - xcdc.value"
   ]
  }
 ],
 "metadata": {
  "kernelspec": {
   "display_name": "vasp-plugin",
   "language": "python",
   "name": "python3"
  },
  "language_info": {
   "codemirror_mode": {
    "name": "ipython",
    "version": 3
   },
   "file_extension": ".py",
   "mimetype": "text/x-python",
   "name": "python",
   "nbconvert_exporter": "python",
   "pygments_lexer": "ipython3",
   "version": "3.9.0"
  }
 },
 "nbformat": 4,
 "nbformat_minor": 2
}
