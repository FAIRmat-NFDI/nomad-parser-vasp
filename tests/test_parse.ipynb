{
 "cells": [
  {
   "cell_type": "code",
   "execution_count": 1,
   "metadata": {},
   "outputs": [
    {
     "name": "stderr",
     "output_type": "stream",
     "text": [
      "/home/jfrudzinski/miniconda3/envs/vasp-plugin-new/lib/python3.9/site-packages/tqdm/auto.py:21: TqdmWarning: IProgress not found. Please update jupyter and ipywidgets. See https://ipywidgets.readthedocs.io/en/stable/user_install.html\n",
      "  from .autonotebook import tqdm as notebook_tqdm\n",
      "Schema is deprecated, use plugins. ()\n"
     ]
    }
   ],
   "source": [
    "from nomad_parser_vasp.parsers.xml_parser import VasprunXMLParser\n",
    "from nomad.datamodel import EntryArchive\n",
    "from nomad.normalizing.metainfo import MetainfoNormalizer\n",
    "from nomad import utils\n",
    "logger = utils.get_logger(__name__)"
   ]
  },
  {
   "cell_type": "code",
   "execution_count": 2,
   "metadata": {},
   "outputs": [
    {
     "name": "stderr",
     "output_type": "stream",
     "text": [
      "Length of `AtomicCell.positions` does not coincide with the length of the `AtomicCell.atoms_state`. (normalizer=MetainfoNormalizer)\n",
      "Could not extract the geometric space information from ASE Atoms object. (normalizer=MetainfoNormalizer)\n",
      "could not normalize section (normalizer=MetainfoNormalizer, section=DFT, exc_info=max() arg is an empty sequence)\n",
      "could not normalize section (normalizer=MetainfoNormalizer, section=EntryArchive, exc_info='NoneType' object has no attribute 'entry_type')\n"
     ]
    }
   ],
   "source": [
    "path = './data/'\n",
    "p = VasprunXMLParser()\n",
    "a = EntryArchive()\n",
    "p.parse(path + 'vasprun.xml.relax', a, logger=logger)\n",
    "\n",
    "MetainfoNormalizer().normalize(archive=a)"
   ]
  },
  {
   "cell_type": "code",
   "execution_count": 3,
   "metadata": {},
   "outputs": [
    {
     "data": {
      "text/plain": [
       "{'data': {'m_def': 'nomad_simulations.schema_packages.general.Simulation',\n",
       "  'program': {'name': 'VASP', 'version': '5.3.2'},\n",
       "  'model_system': [{'datetime': '2024-08-15T15:55:41.135408+00:00',\n",
       "    'branch_depth': 0,\n",
       "    'cell': [{'m_def': 'nomad_simulations.schema_packages.model_system.AtomicCell',\n",
       "      'name': 'AtomicCell',\n",
       "      'positions': [[0.0, 0.0, 0.0], [0.500001, 0.500001, 0.500001]],\n",
       "      'periodic_boundary_conditions': [False, False, False]}]}],\n",
       "  'model_method': [{'m_def': 'nomad_simulations.schema_packages.model_method.DFT',\n",
       "    'xc_functionals': [{'libxc_name': 'PE'}]}]},\n",
       " 'results': {'eln': {'sections': ['ModelSystem']}}}"
      ]
     },
     "execution_count": 3,
     "metadata": {},
     "output_type": "execute_result"
    }
   ],
   "source": [
    "a.m_to_dict()"
   ]
  },
  {
   "cell_type": "code",
   "execution_count": null,
   "metadata": {},
   "outputs": [],
   "source": []
  }
 ],
 "metadata": {
  "kernelspec": {
   "display_name": "vasp-plugin",
   "language": "python",
   "name": "vasp-plugin"
  },
  "language_info": {
   "codemirror_mode": {
    "name": "ipython",
    "version": 3
   },
   "file_extension": ".py",
   "mimetype": "text/x-python",
   "name": "python",
   "nbconvert_exporter": "python",
   "pygments_lexer": "ipython3",
   "version": "3.9.5"
  }
 },
 "nbformat": 4,
 "nbformat_minor": 4
}
