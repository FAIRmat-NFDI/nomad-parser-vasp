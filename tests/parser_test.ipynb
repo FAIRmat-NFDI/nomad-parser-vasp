{
 "cells": [
  {
   "cell_type": "code",
   "execution_count": 1,
   "metadata": {},
   "outputs": [
    {
     "name": "stderr",
     "output_type": "stream",
     "text": [
      "WARNING  nomad.datamodel      2024-07-09T14:38:42 Schema is deprecated, use plugins.\n",
      "  - nomad.commit: \n",
      "  - nomad.deployment: oasis\n",
      "  - nomad.service: unknown nomad service\n",
      "  - nomad.version: 1.3.3.dev144+g13641d2e0.d20240708\n"
     ]
    },
    {
     "ename": "KeyError",
     "evalue": "'Could not find plugin entry point with id \"nomad_parser_vasp.parsers:myparser\". Make sure that the plugin package with an up-to-date pyproject.toml is installed and that you are using the entry point id given in the plugin pyproject.toml'",
     "output_type": "error",
     "traceback": [
      "\u001b[0;31m---------------------------------------------------------------------------\u001b[0m",
      "\u001b[0;31mKeyError\u001b[0m                                  Traceback (most recent call last)",
      "File \u001b[0;32m~/software/nomad/nomad/config/models/config.py:1014\u001b[0m, in \u001b[0;36mConfig.get_plugin_entry_point\u001b[0;34m(self, id)\u001b[0m\n\u001b[1;32m   1013\u001b[0m \u001b[38;5;28;01mtry\u001b[39;00m:\n\u001b[0;32m-> 1014\u001b[0m     \u001b[38;5;28;01mreturn\u001b[39;00m \u001b[38;5;28;43mself\u001b[39;49m\u001b[38;5;241;43m.\u001b[39;49m\u001b[43mplugins\u001b[49m\u001b[38;5;241;43m.\u001b[39;49m\u001b[43mentry_points\u001b[49m\u001b[38;5;241;43m.\u001b[39;49m\u001b[43moptions\u001b[49m\u001b[43m[\u001b[49m\u001b[38;5;28;43mid\u001b[39;49m\u001b[43m]\u001b[49m\n\u001b[1;32m   1015\u001b[0m \u001b[38;5;28;01mexcept\u001b[39;00m \u001b[38;5;167;01mKeyError\u001b[39;00m:\n",
      "\u001b[0;31mKeyError\u001b[0m: 'nomad_parser_vasp.parsers:myparser'",
      "\nDuring handling of the above exception, another exception occurred:\n",
      "\u001b[0;31mKeyError\u001b[0m                                  Traceback (most recent call last)",
      "Cell \u001b[0;32mIn[1], line 4\u001b[0m\n\u001b[1;32m      2\u001b[0m \u001b[38;5;28;01mimport\u001b[39;00m \u001b[38;5;21;01msys\u001b[39;00m\n\u001b[1;32m      3\u001b[0m \u001b[38;5;28;01mimport\u001b[39;00m \u001b[38;5;21;01mos\u001b[39;00m\n\u001b[0;32m----> 4\u001b[0m \u001b[38;5;28;01mfrom\u001b[39;00m \u001b[38;5;21;01mnomad_parser_vasp\u001b[39;00m \u001b[38;5;28;01mimport\u001b[39;00m VASPParser\n\u001b[1;32m      5\u001b[0m \u001b[38;5;28;01mfrom\u001b[39;00m \u001b[38;5;21;01mnomad\u001b[39;00m\u001b[38;5;21;01m.\u001b[39;00m\u001b[38;5;21;01mdatamodel\u001b[39;00m \u001b[38;5;28;01mimport\u001b[39;00m EntryArchive\n\u001b[1;32m      6\u001b[0m \u001b[38;5;28;01mfrom\u001b[39;00m \u001b[38;5;21;01mnomad\u001b[39;00m\u001b[38;5;21;01m.\u001b[39;00m\u001b[38;5;21;01mnormalizing\u001b[39;00m\u001b[38;5;21;01m.\u001b[39;00m\u001b[38;5;21;01mmetainfo\u001b[39;00m \u001b[38;5;28;01mimport\u001b[39;00m MetainfoNormalizer\n",
      "File \u001b[0;32m~/software/nomad-parser-vasp/src/nomad_parser_vasp/__init__.py:1\u001b[0m\n\u001b[0;32m----> 1\u001b[0m \u001b[38;5;28;01mfrom\u001b[39;00m \u001b[38;5;21;01m.\u001b[39;00m\u001b[38;5;21;01mparsers\u001b[39;00m\u001b[38;5;21;01m.\u001b[39;00m\u001b[38;5;21;01mvasp_parser\u001b[39;00m \u001b[38;5;28;01mimport\u001b[39;00m VASPParser\n",
      "File \u001b[0;32m~/software/nomad-parser-vasp/src/nomad_parser_vasp/parsers/vasp_parser.py:19\u001b[0m\n\u001b[1;32m     16\u001b[0m \u001b[38;5;28;01mfrom\u001b[39;00m \u001b[38;5;21;01mnomad\u001b[39;00m\u001b[38;5;21;01m.\u001b[39;00m\u001b[38;5;21;01munits\u001b[39;00m \u001b[38;5;28;01mimport\u001b[39;00m ureg\n\u001b[1;32m     17\u001b[0m \u001b[38;5;28;01mfrom\u001b[39;00m \u001b[38;5;21;01mnomad_simulations\u001b[39;00m\u001b[38;5;21;01m.\u001b[39;00m\u001b[38;5;21;01mschema_packages\u001b[39;00m\u001b[38;5;21;01m.\u001b[39;00m\u001b[38;5;21;01mgeneral\u001b[39;00m \u001b[38;5;28;01mimport\u001b[39;00m Simulation\n\u001b[0;32m---> 19\u001b[0m configuration \u001b[38;5;241m=\u001b[39m \u001b[43mconfig\u001b[49m\u001b[38;5;241;43m.\u001b[39;49m\u001b[43mget_plugin_entry_point\u001b[49m\u001b[43m(\u001b[49m\u001b[38;5;124;43m'\u001b[39;49m\u001b[38;5;124;43mnomad_parser_vasp.parsers:myparser\u001b[39;49m\u001b[38;5;124;43m'\u001b[39;49m\u001b[43m)\u001b[49m\n\u001b[1;32m     21\u001b[0m \u001b[38;5;28;01mfrom\u001b[39;00m \u001b[38;5;21;01m.\u001b[39;00m\u001b[38;5;21;01mschema\u001b[39;00m \u001b[38;5;28;01mimport\u001b[39;00m (\n\u001b[1;32m     22\u001b[0m     HartreeDCEnergy,\n\u001b[1;32m     23\u001b[0m     Outputs,\n\u001b[1;32m     24\u001b[0m     TotalEnergy,\n\u001b[1;32m     25\u001b[0m     XCdcEnergy,\n\u001b[1;32m     26\u001b[0m )\n\u001b[1;32m     29\u001b[0m \u001b[38;5;28;01mclass\u001b[39;00m \u001b[38;5;21;01mVASPParser\u001b[39;00m(MatchingParser):\n",
      "File \u001b[0;32m~/software/nomad/nomad/config/models/config.py:1016\u001b[0m, in \u001b[0;36mConfig.get_plugin_entry_point\u001b[0;34m(self, id)\u001b[0m\n\u001b[1;32m   1014\u001b[0m     \u001b[38;5;28;01mreturn\u001b[39;00m \u001b[38;5;28mself\u001b[39m\u001b[38;5;241m.\u001b[39mplugins\u001b[38;5;241m.\u001b[39mentry_points\u001b[38;5;241m.\u001b[39moptions[\u001b[38;5;28mid\u001b[39m]\n\u001b[1;32m   1015\u001b[0m \u001b[38;5;28;01mexcept\u001b[39;00m \u001b[38;5;167;01mKeyError\u001b[39;00m:\n\u001b[0;32m-> 1016\u001b[0m     \u001b[38;5;28;01mraise\u001b[39;00m \u001b[38;5;167;01mKeyError\u001b[39;00m(\n\u001b[1;32m   1017\u001b[0m         \u001b[38;5;124mf\u001b[39m\u001b[38;5;124m'\u001b[39m\u001b[38;5;124mCould not find plugin entry point with id \u001b[39m\u001b[38;5;124m\"\u001b[39m\u001b[38;5;132;01m{\u001b[39;00m\u001b[38;5;28mid\u001b[39m\u001b[38;5;132;01m}\u001b[39;00m\u001b[38;5;124m\"\u001b[39m\u001b[38;5;124m. Make sure that \u001b[39m\u001b[38;5;124m'\u001b[39m\n\u001b[1;32m   1018\u001b[0m         \u001b[38;5;124m'\u001b[39m\u001b[38;5;124mthe plugin package with an up-to-date pyproject.toml is installed and \u001b[39m\u001b[38;5;124m'\u001b[39m\n\u001b[1;32m   1019\u001b[0m         \u001b[38;5;124m'\u001b[39m\u001b[38;5;124mthat you are using the entry point id given in the plugin \u001b[39m\u001b[38;5;124m'\u001b[39m\n\u001b[1;32m   1020\u001b[0m         \u001b[38;5;124m'\u001b[39m\u001b[38;5;124mpyproject.toml\u001b[39m\u001b[38;5;124m'\u001b[39m\n\u001b[1;32m   1021\u001b[0m     )\n",
      "\u001b[0;31mKeyError\u001b[0m: 'Could not find plugin entry point with id \"nomad_parser_vasp.parsers:myparser\". Make sure that the plugin package with an up-to-date pyproject.toml is installed and that you are using the entry point id given in the plugin pyproject.toml'"
     ]
    }
   ],
   "source": [
    "import importlib\n",
    "import sys\n",
    "import os\n",
    "from nomad_parser_vasp import VASPParser\n",
    "from nomad.datamodel import EntryArchive\n",
    "from nomad.normalizing.metainfo import MetainfoNormalizer\n",
    "from nomad.units import ureg"
   ]
  },
  {
   "cell_type": "code",
   "execution_count": null,
   "metadata": {},
   "outputs": [],
   "source": [
    "path = '/home/bmohr/software/nomad-parser-vasp/tests/data'\n",
    "p = VASPParser()\n",
    "a = EntryArchive()\n",
    "p.parse(path + 'vasprun.xml.relax', a, logger=None)\n",
    "\n",
    "MetainfoNormalizer().normalize(archive=a)"
   ]
  }
 ],
 "metadata": {
  "kernelspec": {
   "display_name": ".pyenv",
   "language": "python",
   "name": "python3"
  },
  "language_info": {
   "codemirror_mode": {
    "name": "ipython",
    "version": 3
   },
   "file_extension": ".py",
   "mimetype": "text/x-python",
   "name": "python",
   "nbconvert_exporter": "python",
   "pygments_lexer": "ipython3",
   "version": "3.9.19"
  }
 },
 "nbformat": 4,
 "nbformat_minor": 2
}
